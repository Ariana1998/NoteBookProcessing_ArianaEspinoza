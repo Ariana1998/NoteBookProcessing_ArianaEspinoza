{
 "cells": [
  {
   "cell_type": "markdown",
   "metadata": {},
   "source": [
    "## Como limpiar tus datos en Python"
   ]
  },
  {
   "cell_type": "markdown",
   "metadata": {},
   "source": [
    "Todo lo explicado en este notebook pertenece al artículo How to Clean Your Data in Python de Huong Ngo, por lo cual anexo el enlace a este mismo. Adem&aacute;s tambi&eacute;n adjunto el enlace de donde sali&oacute; el conjunto de datos.\n",
    "<p>Click para ver el art&iacute;culo <a href=\"https://towardsdatascience.com/how-to-clean-your-data-in-python-8f178638b98d\">How to Clean your Data</a>.</p>\n",
    "<p>Click para descargar el conjunto de datos <a href=\"https://www.kaggle.com/datasets/shivamb/netflix-shows\">Netflix Movies and TV Shows Dataset</a>.</p>"
   ]
  },
  {
   "cell_type": "markdown",
   "metadata": {},
   "source": [
    "El artículo es creado como punto de partida para aprender a limpiar los datos de forma eficiente para así utilizarlo en proyectos personales. Además, se trabajará con el conjunto de datos de películas y programas de televisión en Netflix, el cual presenta ciertas inconsistencias y datos faltantes."
   ]
  },
  {
   "cell_type": "markdown",
   "metadata": {},
   "source": [
    "Primeramente importamos las librerías necesarias para trabajar en este conjunto de datos."
   ]
  },
  {
   "cell_type": "code",
   "execution_count": 1,
   "metadata": {},
   "outputs": [],
   "source": [
    "import pandas as pd\n",
    "from datetime import datetime\n"
   ]
  },
  {
   "cell_type": "markdown",
   "metadata": {},
   "source": [
    "Paso 1. Investigar los datos\n"
   ]
  },
  {
   "cell_type": "markdown",
   "metadata": {},
   "source": [
    "Antes de realizar cualquier acción en el conjunto de datos, primero tenemos que revisar los datos para poder comprender con que variables se está trabajando, como se estructuran estos valores según la columna en la que se encuentran, para así tener una idea aproximada de lo que se necesita abordar o podrían ocasionar problemas en la fase de análisis. También se podrán eliminar ciertas columnas que no son necesarias, dependiendo del análisis que se quiere realizar."
   ]
  },
  {
   "cell_type": "markdown",
   "metadata": {},
   "source": [
    "1.1 Imprimir las primeras filas del conjunto de datos"
   ]
  },
  {
   "cell_type": "markdown",
   "metadata": {},
   "source": [
    "Se imprimen las primeras 5 filas del conjunto de datos, se recomienda imprimir menos de 10 para no abrumarse al momento de analizar rápido el conjunto de datos."
   ]
  },
  {
   "cell_type": "code",
   "execution_count": 2,
   "metadata": {},
   "outputs": [
    {
     "data": {
      "text/html": [
       "<div>\n",
       "<style scoped>\n",
       "    .dataframe tbody tr th:only-of-type {\n",
       "        vertical-align: middle;\n",
       "    }\n",
       "\n",
       "    .dataframe tbody tr th {\n",
       "        vertical-align: top;\n",
       "    }\n",
       "\n",
       "    .dataframe thead th {\n",
       "        text-align: right;\n",
       "    }\n",
       "</style>\n",
       "<table border=\"1\" class=\"dataframe\">\n",
       "  <thead>\n",
       "    <tr style=\"text-align: right;\">\n",
       "      <th></th>\n",
       "      <th>show_id</th>\n",
       "      <th>type</th>\n",
       "      <th>title</th>\n",
       "      <th>director</th>\n",
       "      <th>cast</th>\n",
       "      <th>country</th>\n",
       "      <th>date_added</th>\n",
       "      <th>release_year</th>\n",
       "      <th>rating</th>\n",
       "      <th>duration</th>\n",
       "      <th>listed_in</th>\n",
       "      <th>description</th>\n",
       "    </tr>\n",
       "  </thead>\n",
       "  <tbody>\n",
       "    <tr>\n",
       "      <th>0</th>\n",
       "      <td>s1</td>\n",
       "      <td>Movie</td>\n",
       "      <td>Dick Johnson Is Dead</td>\n",
       "      <td>Kirsten Johnson</td>\n",
       "      <td>NaN</td>\n",
       "      <td>United States</td>\n",
       "      <td>September 25, 2021</td>\n",
       "      <td>2020</td>\n",
       "      <td>PG-13</td>\n",
       "      <td>90 min</td>\n",
       "      <td>Documentaries</td>\n",
       "      <td>As her father nears the end of his life, filmm...</td>\n",
       "    </tr>\n",
       "    <tr>\n",
       "      <th>1</th>\n",
       "      <td>s2</td>\n",
       "      <td>TV Show</td>\n",
       "      <td>Blood &amp; Water</td>\n",
       "      <td>NaN</td>\n",
       "      <td>Ama Qamata, Khosi Ngema, Gail Mabalane, Thaban...</td>\n",
       "      <td>South Africa</td>\n",
       "      <td>September 24, 2021</td>\n",
       "      <td>2021</td>\n",
       "      <td>TV-MA</td>\n",
       "      <td>2 Seasons</td>\n",
       "      <td>International TV Shows, TV Dramas, TV Mysteries</td>\n",
       "      <td>After crossing paths at a party, a Cape Town t...</td>\n",
       "    </tr>\n",
       "    <tr>\n",
       "      <th>2</th>\n",
       "      <td>s3</td>\n",
       "      <td>TV Show</td>\n",
       "      <td>Ganglands</td>\n",
       "      <td>Julien Leclercq</td>\n",
       "      <td>Sami Bouajila, Tracy Gotoas, Samuel Jouy, Nabi...</td>\n",
       "      <td>NaN</td>\n",
       "      <td>September 24, 2021</td>\n",
       "      <td>2021</td>\n",
       "      <td>TV-MA</td>\n",
       "      <td>1 Season</td>\n",
       "      <td>Crime TV Shows, International TV Shows, TV Act...</td>\n",
       "      <td>To protect his family from a powerful drug lor...</td>\n",
       "    </tr>\n",
       "    <tr>\n",
       "      <th>3</th>\n",
       "      <td>s4</td>\n",
       "      <td>TV Show</td>\n",
       "      <td>Jailbirds New Orleans</td>\n",
       "      <td>NaN</td>\n",
       "      <td>NaN</td>\n",
       "      <td>NaN</td>\n",
       "      <td>September 24, 2021</td>\n",
       "      <td>2021</td>\n",
       "      <td>TV-MA</td>\n",
       "      <td>1 Season</td>\n",
       "      <td>Docuseries, Reality TV</td>\n",
       "      <td>Feuds, flirtations and toilet talk go down amo...</td>\n",
       "    </tr>\n",
       "    <tr>\n",
       "      <th>4</th>\n",
       "      <td>s5</td>\n",
       "      <td>TV Show</td>\n",
       "      <td>Kota Factory</td>\n",
       "      <td>NaN</td>\n",
       "      <td>Mayur More, Jitendra Kumar, Ranjan Raj, Alam K...</td>\n",
       "      <td>India</td>\n",
       "      <td>September 24, 2021</td>\n",
       "      <td>2021</td>\n",
       "      <td>TV-MA</td>\n",
       "      <td>2 Seasons</td>\n",
       "      <td>International TV Shows, Romantic TV Shows, TV ...</td>\n",
       "      <td>In a city of coaching centers known to train I...</td>\n",
       "    </tr>\n",
       "  </tbody>\n",
       "</table>\n",
       "</div>"
      ],
      "text/plain": [
       "  show_id     type                  title         director  \\\n",
       "0      s1    Movie   Dick Johnson Is Dead  Kirsten Johnson   \n",
       "1      s2  TV Show          Blood & Water              NaN   \n",
       "2      s3  TV Show              Ganglands  Julien Leclercq   \n",
       "3      s4  TV Show  Jailbirds New Orleans              NaN   \n",
       "4      s5  TV Show           Kota Factory              NaN   \n",
       "\n",
       "                                                cast        country  \\\n",
       "0                                                NaN  United States   \n",
       "1  Ama Qamata, Khosi Ngema, Gail Mabalane, Thaban...   South Africa   \n",
       "2  Sami Bouajila, Tracy Gotoas, Samuel Jouy, Nabi...            NaN   \n",
       "3                                                NaN            NaN   \n",
       "4  Mayur More, Jitendra Kumar, Ranjan Raj, Alam K...          India   \n",
       "\n",
       "           date_added  release_year rating   duration  \\\n",
       "0  September 25, 2021          2020  PG-13     90 min   \n",
       "1  September 24, 2021          2021  TV-MA  2 Seasons   \n",
       "2  September 24, 2021          2021  TV-MA   1 Season   \n",
       "3  September 24, 2021          2021  TV-MA   1 Season   \n",
       "4  September 24, 2021          2021  TV-MA  2 Seasons   \n",
       "\n",
       "                                           listed_in  \\\n",
       "0                                      Documentaries   \n",
       "1    International TV Shows, TV Dramas, TV Mysteries   \n",
       "2  Crime TV Shows, International TV Shows, TV Act...   \n",
       "3                             Docuseries, Reality TV   \n",
       "4  International TV Shows, Romantic TV Shows, TV ...   \n",
       "\n",
       "                                         description  \n",
       "0  As her father nears the end of his life, filmm...  \n",
       "1  After crossing paths at a party, a Cape Town t...  \n",
       "2  To protect his family from a powerful drug lor...  \n",
       "3  Feuds, flirtations and toilet talk go down amo...  \n",
       "4  In a city of coaching centers known to train I...  "
      ]
     },
     "execution_count": 2,
     "metadata": {},
     "output_type": "execute_result"
    }
   ],
   "source": [
    "# Importando el conjunto de datos\n",
    "netflix_titles = pd.read_csv(\"netflix_titles.csv\")\n",
    "# Se imprimen las primeras 5 columnas del conjunto de datos\n",
    "netflix_titles.head()"
   ]
  },
  {
   "cell_type": "markdown",
   "metadata": {},
   "source": [
    "Con esto se tendrá una buena idea de con que tipos de datos se estará tratando, que columnas requieren limpieza o transformaciones y que otros datos se pueden extraer."
   ]
  },
  {
   "cell_type": "markdown",
   "metadata": {},
   "source": [
    "1.2 Guardar las variables en una lista"
   ]
  },
  {
   "cell_type": "markdown",
   "metadata": {},
   "source": [
    "Esto se hace con el fin de tener un fácil acceso a las diferentes columnas del conjunto de datos, principalmente cuando se quieren hacer las mismas transformaciones en diferentes subconjuntos de columnas."
   ]
  },
  {
   "cell_type": "code",
   "execution_count": 3,
   "metadata": {},
   "outputs": [
    {
     "data": {
      "text/plain": [
       "['show_id',\n",
       " 'type',\n",
       " 'title',\n",
       " 'director',\n",
       " 'cast',\n",
       " 'country',\n",
       " 'date_added',\n",
       " 'release_year',\n",
       " 'rating',\n",
       " 'duration',\n",
       " 'listed_in',\n",
       " 'description']"
      ]
     },
     "execution_count": 3,
     "metadata": {},
     "output_type": "execute_result"
    }
   ],
   "source": [
    "# Trayendo las columnas del conjunto de datos\n",
    "columns = list(netflix_titles.columns)\n",
    "columns"
   ]
  },
  {
   "cell_type": "markdown",
   "metadata": {},
   "source": [
    "1.3 Anota los posibles problemas que se tendrán que abordar en cada columna."
   ]
  },
  {
   "cell_type": "markdown",
   "metadata": {},
   "source": [
    "Para mantenerse organizado, hay que observar los problemas que ve en su subconjunto de datos, algunas cosas a notar son:"
   ]
  },
  {
   "cell_type": "markdown",
   "metadata": {},
   "source": [
    "- Hay algunas columnas con datos faltantes.\n",
    "- Hay columnas con palabras y números, como date_added y duration.\n",
    "- Hay 2 columnas con varias palabras distintas unidas por una coma.\n",
    "- Es posible que a otras columnas les falten valores."
   ]
  },
  {
   "cell_type": "markdown",
   "metadata": {},
   "source": [
    "Paso 2. Observar la proporcion de datos faltantes."
   ]
  },
  {
   "cell_type": "code",
   "execution_count": 4,
   "metadata": {},
   "outputs": [
    {
     "name": "stdout",
     "output_type": "stream",
     "text": [
      "Missing values distribution: \n",
      "show_id         0.000000\n",
      "type            0.000000\n",
      "title           0.000000\n",
      "director        0.299080\n",
      "cast            0.093675\n",
      "country         0.094357\n",
      "date_added      0.001135\n",
      "release_year    0.000000\n",
      "rating          0.000454\n",
      "duration        0.000341\n",
      "listed_in       0.000000\n",
      "description     0.000000\n",
      "dtype: float64\n",
      "\n"
     ]
    }
   ],
   "source": [
    "# examining missing values\n",
    "print(\"Missing values distribution: \")\n",
    "print(netflix_titles.isnull().mean())\n",
    "print(\"\")"
   ]
  },
  {
   "cell_type": "markdown",
   "metadata": {},
   "source": [
    "Por este fragmento de código podemos observar la distribución de los valores faltantes en el conjunto de datos, para así tener una buena idea de en que columnas se necesitara trabajar para resolver el problema de los valores faltantes."
   ]
  },
  {
   "cell_type": "markdown",
   "metadata": {},
   "source": [
    "A partir del resultado, esto es lo que se puede recopilar:"
   ]
  },
  {
   "cell_type": "markdown",
   "metadata": {},
   "source": [
    "- La columna director tiene el porcentaje más alto de datos faltantes con un 30%\n",
    "- La columna cast y country tienen un porcentaje considerable de datos faltantes con un 9%\n",
    "- A date_added, rating y duration le faltan únicamente 0%-0,1%\n",
    "- La mayoría de las demás columnas no están vacías."
   ]
  },
  {
   "cell_type": "markdown",
   "metadata": {},
   "source": [
    "Entonces, ¿cómo se tratan estas columnas con valores faltantes?"
   ]
  },
  {
   "cell_type": "markdown",
   "metadata": {},
   "source": [
    "Hay varias opciones:"
   ]
  },
  {
   "cell_type": "markdown",
   "metadata": {},
   "source": [
    "- Eliminar la columna. Si no es importante para el análisis, eliminala.\n",
    "- Conserva la columna. En este caso, las columnas director, cast y country son muy importantes para el análisis, así que se conservan.\n",
    "- Imputación. Reemplazar datos faltantes con valores sustituidos, lo cual en este caso no es posible porque la mayoría de los datos son cadenas y no valores numéricos."
   ]
  },
  {
   "cell_type": "markdown",
   "metadata": {},
   "source": [
    "Paso 3. Verificar el tipo de datos de cada cadena"
   ]
  },
  {
   "cell_type": "code",
   "execution_count": 5,
   "metadata": {},
   "outputs": [
    {
     "name": "stdout",
     "output_type": "stream",
     "text": [
      "Column datatypes: \n",
      "show_id         object\n",
      "type            object\n",
      "title           object\n",
      "director        object\n",
      "cast            object\n",
      "country         object\n",
      "date_added      object\n",
      "release_year     int64\n",
      "rating          object\n",
      "duration        object\n",
      "listed_in       object\n",
      "description     object\n",
      "dtype: object\n"
     ]
    }
   ],
   "source": [
    "# Verificando el tipo de dato de cada columna\n",
    "print(\"Column datatypes: \")\n",
    "print(netflix_titles.dtypes)"
   ]
  },
  {
   "cell_type": "markdown",
   "metadata": {},
   "source": [
    "Se puede ver que todas las columnas tienen como tipo de dato Object, además de release_year. En pandas, Object significa un dato de cadena o mixto (tipo numéricos y no numérico). A partir de nuestro conjunto de datos, se podrá saber que columnas son únicamente de cadena y cuáles de tipo mixto."
   ]
  },
  {
   "cell_type": "markdown",
   "metadata": {},
   "source": [
    "Paso 4. Si hay columnas de tipo cadena, verificar si hay espacios en blanco al final."
   ]
  },
  {
   "cell_type": "markdown",
   "metadata": {},
   "source": [
    "Una vez sepamos con qué tipo de datos tratamos, hay que asegurarse de eliminar los caracteres finales y los espacios en blanco utilizando strip."
   ]
  },
  {
   "cell_type": "code",
   "execution_count": 6,
   "metadata": {},
   "outputs": [],
   "source": [
    "# Trayendo todas las columinas con valores del tipo cadena/mixtos\n",
    "str_cols = list(netflix_titles.columns)\n",
    "str_cols.remove('release_year')\n",
    "\n",
    "# Eliminación de los caracteres iniciales y finales de las columnas de tipo str\n",
    "for i in str_cols:\n",
    "    netflix_titles[i] = netflix_titles[i].str.strip()"
   ]
  },
  {
   "cell_type": "markdown",
   "metadata": {},
   "source": [
    "Paso 5. Tratar con los valores faltantes (valores NaN)"
   ]
  },
  {
   "cell_type": "markdown",
   "metadata": {},
   "source": [
    "Las columnas con datos faltantes son director, cast, country, date_added, rating y duration. Con esto se puede segmentar las columnas segun sea el tipo cadena o mixtas.\n"
   ]
  },
  {
   "cell_type": "markdown",
   "metadata": {},
   "source": [
    "- Cadena: director, cast, country, rating\n",
    "- Mixto: date_added y duration."
   ]
  },
  {
   "cell_type": "markdown",
   "metadata": {},
   "source": [
    "NaN no es un número en pandas, es un valor de punto flotante especial que es distinto al NoneType de Python. NaN puede resultar molesto al trabajar con el, especialmente cuando se desea filtrar para gráficos o análisis."
   ]
  },
  {
   "cell_type": "markdown",
   "metadata": {},
   "source": [
    "Para valores de tipo cadena, se pueden reemplazar los valores NaN con \" \", \"None\" o cualquier cadena que pueda indicar que no hay ningún valor en esa entrada. Así que se reemplazó \" \" usando la función fill, como no es una función local se reasignó los valores modificados a la columna del conjunto de datos."
   ]
  },
  {
   "cell_type": "code",
   "execution_count": 7,
   "metadata": {},
   "outputs": [],
   "source": [
    "# Nombre de las columnas\n",
    "columns = ['director', 'cast', 'country', 'rating', 'date_added']\n",
    "\n",
    "# Recorrer las columnas para rellenar las entradas con valores NaN con \"\"\n",
    "for column in columns:\n",
    "    netflix_titles[column] = netflix_titles[column].fillna(\"\")"
   ]
  },
  {
   "cell_type": "markdown",
   "metadata": {},
   "source": [
    "Paso 6. Ver si hay otras variables que se puedan obtener extrayéndolas de otras variables."
   ]
  },
  {
   "cell_type": "markdown",
   "metadata": {},
   "source": [
    "Para los valores del tipo mixto, veamos si se puede extraer algún dato para enriquecer el análisis o facilitar el proceso."
   ]
  },
  {
   "cell_type": "markdown",
   "metadata": {},
   "source": [
    "Observando la variable date_added, se puede ver que contiene el mes, fecha y año en que se agregó la película/programa. Lo mejor que se puede hacer es separarla en otras 2 columnas, además de filtrar las filas con valores NaN y reemplazarla con 0."
   ]
  },
  {
   "cell_type": "code",
   "execution_count": 8,
   "metadata": {},
   "outputs": [
    {
     "name": "stdout",
     "output_type": "stream",
     "text": [
      "{0, 1, 2, 3, 4, 5, 6, 7, 8, 9, 10, 11, 12}\n",
      "{2016, 2017, 2018, 2019, 2020, 2021, 0, 2008, 2009, 2010, 2011, 2012, 2013, 2014, 2015}\n"
     ]
    },
    {
     "data": {
      "text/html": [
       "<div>\n",
       "<style scoped>\n",
       "    .dataframe tbody tr th:only-of-type {\n",
       "        vertical-align: middle;\n",
       "    }\n",
       "\n",
       "    .dataframe tbody tr th {\n",
       "        vertical-align: top;\n",
       "    }\n",
       "\n",
       "    .dataframe thead th {\n",
       "        text-align: right;\n",
       "    }\n",
       "</style>\n",
       "<table border=\"1\" class=\"dataframe\">\n",
       "  <thead>\n",
       "    <tr style=\"text-align: right;\">\n",
       "      <th></th>\n",
       "      <th>show_id</th>\n",
       "      <th>type</th>\n",
       "      <th>title</th>\n",
       "      <th>director</th>\n",
       "      <th>cast</th>\n",
       "      <th>country</th>\n",
       "      <th>date_added</th>\n",
       "      <th>month_added</th>\n",
       "      <th>year_added</th>\n",
       "      <th>release_year</th>\n",
       "      <th>rating</th>\n",
       "      <th>duration</th>\n",
       "      <th>listed_in</th>\n",
       "      <th>description</th>\n",
       "    </tr>\n",
       "  </thead>\n",
       "  <tbody>\n",
       "    <tr>\n",
       "      <th>0</th>\n",
       "      <td>s1</td>\n",
       "      <td>Movie</td>\n",
       "      <td>Dick Johnson Is Dead</td>\n",
       "      <td>Kirsten Johnson</td>\n",
       "      <td></td>\n",
       "      <td>United States</td>\n",
       "      <td>September 25, 2021</td>\n",
       "      <td>9</td>\n",
       "      <td>2021</td>\n",
       "      <td>2020</td>\n",
       "      <td>PG-13</td>\n",
       "      <td>90 min</td>\n",
       "      <td>Documentaries</td>\n",
       "      <td>As her father nears the end of his life, filmm...</td>\n",
       "    </tr>\n",
       "    <tr>\n",
       "      <th>1</th>\n",
       "      <td>s2</td>\n",
       "      <td>TV Show</td>\n",
       "      <td>Blood &amp; Water</td>\n",
       "      <td></td>\n",
       "      <td>Ama Qamata, Khosi Ngema, Gail Mabalane, Thaban...</td>\n",
       "      <td>South Africa</td>\n",
       "      <td>September 24, 2021</td>\n",
       "      <td>9</td>\n",
       "      <td>2021</td>\n",
       "      <td>2021</td>\n",
       "      <td>TV-MA</td>\n",
       "      <td>2 Seasons</td>\n",
       "      <td>International TV Shows, TV Dramas, TV Mysteries</td>\n",
       "      <td>After crossing paths at a party, a Cape Town t...</td>\n",
       "    </tr>\n",
       "    <tr>\n",
       "      <th>2</th>\n",
       "      <td>s3</td>\n",
       "      <td>TV Show</td>\n",
       "      <td>Ganglands</td>\n",
       "      <td>Julien Leclercq</td>\n",
       "      <td>Sami Bouajila, Tracy Gotoas, Samuel Jouy, Nabi...</td>\n",
       "      <td></td>\n",
       "      <td>September 24, 2021</td>\n",
       "      <td>9</td>\n",
       "      <td>2021</td>\n",
       "      <td>2021</td>\n",
       "      <td>TV-MA</td>\n",
       "      <td>1 Season</td>\n",
       "      <td>Crime TV Shows, International TV Shows, TV Act...</td>\n",
       "      <td>To protect his family from a powerful drug lor...</td>\n",
       "    </tr>\n",
       "    <tr>\n",
       "      <th>3</th>\n",
       "      <td>s4</td>\n",
       "      <td>TV Show</td>\n",
       "      <td>Jailbirds New Orleans</td>\n",
       "      <td></td>\n",
       "      <td></td>\n",
       "      <td></td>\n",
       "      <td>September 24, 2021</td>\n",
       "      <td>9</td>\n",
       "      <td>2021</td>\n",
       "      <td>2021</td>\n",
       "      <td>TV-MA</td>\n",
       "      <td>1 Season</td>\n",
       "      <td>Docuseries, Reality TV</td>\n",
       "      <td>Feuds, flirtations and toilet talk go down amo...</td>\n",
       "    </tr>\n",
       "    <tr>\n",
       "      <th>4</th>\n",
       "      <td>s5</td>\n",
       "      <td>TV Show</td>\n",
       "      <td>Kota Factory</td>\n",
       "      <td></td>\n",
       "      <td>Mayur More, Jitendra Kumar, Ranjan Raj, Alam K...</td>\n",
       "      <td>India</td>\n",
       "      <td>September 24, 2021</td>\n",
       "      <td>9</td>\n",
       "      <td>2021</td>\n",
       "      <td>2021</td>\n",
       "      <td>TV-MA</td>\n",
       "      <td>2 Seasons</td>\n",
       "      <td>International TV Shows, Romantic TV Shows, TV ...</td>\n",
       "      <td>In a city of coaching centers known to train I...</td>\n",
       "    </tr>\n",
       "  </tbody>\n",
       "</table>\n",
       "</div>"
      ],
      "text/plain": [
       "  show_id     type                  title         director  \\\n",
       "0      s1    Movie   Dick Johnson Is Dead  Kirsten Johnson   \n",
       "1      s2  TV Show          Blood & Water                    \n",
       "2      s3  TV Show              Ganglands  Julien Leclercq   \n",
       "3      s4  TV Show  Jailbirds New Orleans                    \n",
       "4      s5  TV Show           Kota Factory                    \n",
       "\n",
       "                                                cast        country  \\\n",
       "0                                                     United States   \n",
       "1  Ama Qamata, Khosi Ngema, Gail Mabalane, Thaban...   South Africa   \n",
       "2  Sami Bouajila, Tracy Gotoas, Samuel Jouy, Nabi...                  \n",
       "3                                                                     \n",
       "4  Mayur More, Jitendra Kumar, Ranjan Raj, Alam K...          India   \n",
       "\n",
       "           date_added  month_added  year_added  release_year rating  \\\n",
       "0  September 25, 2021            9        2021          2020  PG-13   \n",
       "1  September 24, 2021            9        2021          2021  TV-MA   \n",
       "2  September 24, 2021            9        2021          2021  TV-MA   \n",
       "3  September 24, 2021            9        2021          2021  TV-MA   \n",
       "4  September 24, 2021            9        2021          2021  TV-MA   \n",
       "\n",
       "    duration                                          listed_in  \\\n",
       "0     90 min                                      Documentaries   \n",
       "1  2 Seasons    International TV Shows, TV Dramas, TV Mysteries   \n",
       "2   1 Season  Crime TV Shows, International TV Shows, TV Act...   \n",
       "3   1 Season                             Docuseries, Reality TV   \n",
       "4  2 Seasons  International TV Shows, Romantic TV Shows, TV ...   \n",
       "\n",
       "                                         description  \n",
       "0  As her father nears the end of his life, filmm...  \n",
       "1  After crossing paths at a party, a Cape Town t...  \n",
       "2  To protect his family from a powerful drug lor...  \n",
       "3  Feuds, flirtations and toilet talk go down amo...  \n",
       "4  In a city of coaching centers known to train I...  "
      ]
     },
     "execution_count": 8,
     "metadata": {},
     "output_type": "execute_result"
    }
   ],
   "source": [
    "# Examinando filas con valores nulos de date_added column\n",
    "rows = []\n",
    "for i in range(len(netflix_titles)):\n",
    "    if netflix_titles['date_added'].iloc[i] == \"\":\n",
    "        rows.append(i)\n",
    "    \n",
    "# Examinar esas filas para confirmar el estado nulo\n",
    "netflix_titles.loc[rows, :]\n",
    "# Extracción de meses y años añadidos\n",
    "month_added = []\n",
    "year_added = []\n",
    "for i in range(len(netflix_titles)):\n",
    "    # Reemplazando valores NaN con 0\n",
    "    if i in rows:\n",
    "        month_added.append(0)\n",
    "        year_added.append(0)\n",
    "    else:\n",
    "        date = netflix_titles['date_added'].iloc[i].split(\" \")\n",
    "        month_added.append(date[0])\n",
    "        year_added.append(int(date[2]))\n",
    "        \n",
    "# Tornando el nombre de los meses en numeros de mes\n",
    "for i, month in enumerate(month_added):\n",
    "    if month != 0:\n",
    "        datetime_obj = datetime.strptime(month, \"%B\")\n",
    "        month_number = datetime_obj.month\n",
    "        month_added[i] = month_number\n",
    "        \n",
    "# Checando todos los meses\n",
    "print(set(month_added))\n",
    "print(set(year_added))\n",
    "\n",
    "# Insertando columnas del mes y año en el conjunto de datos\n",
    "netflix_titles.insert(7, \"month_added\", month_added, allow_duplicates = True)\n",
    "netflix_titles.insert(8, \"year_added\", year_added, allow_duplicates = True)\n",
    "netflix_titles.head()\n"
   ]
  },
  {
   "cell_type": "markdown",
   "metadata": {},
   "source": [
    "Ahora, el nuevo conjunto de datos contiene las columnas month_added y year_added. Esto nos permitirá hacer algún análisis de tendencias más adelante."
   ]
  },
  {
   "cell_type": "markdown",
   "metadata": {},
   "source": [
    "En cuanto a duration, además de ser de tipo mixto, también hay 2 unidades de tiempo diferentes en esta columna, lo cual es un problema porque son 2 tipos diferentes de contenido que se miden de forma diferente en términos de tiempo. Por lo tanto, hacer gráficos para duration sería bastante difícil de interpretar si se mantienen como están. Se eligió abordarlo separando el tipo de contenido en 2 conjuntos de datos diferentes, por lo cual, la columna de duración será solo numérica y solo tendrá 1 tipo de unidad de tiempo."
   ]
  },
  {
   "cell_type": "code",
   "execution_count": 9,
   "metadata": {},
   "outputs": [],
   "source": [
    "# Separando el conjunto de datos original a conjunto de programas de television y peliculas en su respectivo \n",
    "# conjunto de datos.\n",
    "shows = []\n",
    "films = []\n",
    "\n",
    "# Recorre el conjunto de datos para identificar las filas que son programas de televisión y películas.\n",
    "for i in range(len(netflix_titles)):\n",
    "    if netflix_titles['type'].iloc[i] == \"TV Show\":\n",
    "        shows.append(i)\n",
    "    else:\n",
    "        films.append(i)\n",
    " \n",
    "# Agrupando filas de las programas de television.\n",
    "netflix_shows = netflix_titles.loc[shows, :]\n",
    "\n",
    "# Agrupando filas de las peliculas\n",
    "netflix_films = netflix_titles.loc[films, :]\n",
    "\n",
    "# Restablecer el índice de los nuevos conjuntos de datos\n",
    "netflix_shows = netflix_shows.set_index([pd.Index(range(0, len(netflix_shows)))])\n",
    "netflix_films = netflix_films.set_index([pd.Index(range(0, len(netflix_films)))])\n"
   ]
  },
  {
   "cell_type": "markdown",
   "metadata": {},
   "source": [
    "Debido a que la columna duration tiene cadenas y números, también se creara una función para extraer el número de esa columna y así insertarlo en las columnas de los 2 nuevos conjuntos de datos."
   ]
  },
  {
   "cell_type": "code",
   "execution_count": 10,
   "metadata": {},
   "outputs": [
    {
     "data": {
      "text/html": [
       "<div>\n",
       "<style scoped>\n",
       "    .dataframe tbody tr th:only-of-type {\n",
       "        vertical-align: middle;\n",
       "    }\n",
       "\n",
       "    .dataframe tbody tr th {\n",
       "        vertical-align: top;\n",
       "    }\n",
       "\n",
       "    .dataframe thead th {\n",
       "        text-align: right;\n",
       "    }\n",
       "</style>\n",
       "<table border=\"1\" class=\"dataframe\">\n",
       "  <thead>\n",
       "    <tr style=\"text-align: right;\">\n",
       "      <th></th>\n",
       "      <th>show_id</th>\n",
       "      <th>type</th>\n",
       "      <th>title</th>\n",
       "      <th>director</th>\n",
       "      <th>cast</th>\n",
       "      <th>country</th>\n",
       "      <th>date_added</th>\n",
       "      <th>month_added</th>\n",
       "      <th>year_added</th>\n",
       "      <th>release_year</th>\n",
       "      <th>rating</th>\n",
       "      <th>length</th>\n",
       "      <th>listed_in</th>\n",
       "      <th>description</th>\n",
       "    </tr>\n",
       "  </thead>\n",
       "  <tbody>\n",
       "    <tr>\n",
       "      <th>0</th>\n",
       "      <td>s1</td>\n",
       "      <td>Movie</td>\n",
       "      <td>Dick Johnson Is Dead</td>\n",
       "      <td>Kirsten Johnson</td>\n",
       "      <td></td>\n",
       "      <td>United States</td>\n",
       "      <td>September 25, 2021</td>\n",
       "      <td>9</td>\n",
       "      <td>2021</td>\n",
       "      <td>2020</td>\n",
       "      <td>PG-13</td>\n",
       "      <td>90</td>\n",
       "      <td>Documentaries</td>\n",
       "      <td>As her father nears the end of his life, filmm...</td>\n",
       "    </tr>\n",
       "    <tr>\n",
       "      <th>1</th>\n",
       "      <td>s7</td>\n",
       "      <td>Movie</td>\n",
       "      <td>My Little Pony: A New Generation</td>\n",
       "      <td>Robert Cullen, José Luis Ucha</td>\n",
       "      <td>Vanessa Hudgens, Kimiko Glenn, James Marsden, ...</td>\n",
       "      <td></td>\n",
       "      <td>September 24, 2021</td>\n",
       "      <td>9</td>\n",
       "      <td>2021</td>\n",
       "      <td>2021</td>\n",
       "      <td>PG</td>\n",
       "      <td>91</td>\n",
       "      <td>Children &amp; Family Movies</td>\n",
       "      <td>Equestria's divided. But a bright-eyed hero be...</td>\n",
       "    </tr>\n",
       "    <tr>\n",
       "      <th>2</th>\n",
       "      <td>s8</td>\n",
       "      <td>Movie</td>\n",
       "      <td>Sankofa</td>\n",
       "      <td>Haile Gerima</td>\n",
       "      <td>Kofi Ghanaba, Oyafunmike Ogunlano, Alexandra D...</td>\n",
       "      <td>United States, Ghana, Burkina Faso, United Kin...</td>\n",
       "      <td>September 24, 2021</td>\n",
       "      <td>9</td>\n",
       "      <td>2021</td>\n",
       "      <td>1993</td>\n",
       "      <td>TV-MA</td>\n",
       "      <td>125</td>\n",
       "      <td>Dramas, Independent Movies, International Movies</td>\n",
       "      <td>On a photo shoot in Ghana, an American model s...</td>\n",
       "    </tr>\n",
       "    <tr>\n",
       "      <th>3</th>\n",
       "      <td>s10</td>\n",
       "      <td>Movie</td>\n",
       "      <td>The Starling</td>\n",
       "      <td>Theodore Melfi</td>\n",
       "      <td>Melissa McCarthy, Chris O'Dowd, Kevin Kline, T...</td>\n",
       "      <td>United States</td>\n",
       "      <td>September 24, 2021</td>\n",
       "      <td>9</td>\n",
       "      <td>2021</td>\n",
       "      <td>2021</td>\n",
       "      <td>PG-13</td>\n",
       "      <td>104</td>\n",
       "      <td>Comedies, Dramas</td>\n",
       "      <td>A woman adjusting to life after a loss contend...</td>\n",
       "    </tr>\n",
       "    <tr>\n",
       "      <th>4</th>\n",
       "      <td>s13</td>\n",
       "      <td>Movie</td>\n",
       "      <td>Je Suis Karl</td>\n",
       "      <td>Christian Schwochow</td>\n",
       "      <td>Luna Wedler, Jannis Niewöhner, Milan Peschel, ...</td>\n",
       "      <td>Germany, Czech Republic</td>\n",
       "      <td>September 23, 2021</td>\n",
       "      <td>9</td>\n",
       "      <td>2021</td>\n",
       "      <td>2021</td>\n",
       "      <td>TV-MA</td>\n",
       "      <td>127</td>\n",
       "      <td>Dramas, International Movies</td>\n",
       "      <td>After most of her family is murdered in a terr...</td>\n",
       "    </tr>\n",
       "  </tbody>\n",
       "</table>\n",
       "</div>"
      ],
      "text/plain": [
       "  show_id   type                             title  \\\n",
       "0      s1  Movie              Dick Johnson Is Dead   \n",
       "1      s7  Movie  My Little Pony: A New Generation   \n",
       "2      s8  Movie                           Sankofa   \n",
       "3     s10  Movie                      The Starling   \n",
       "4     s13  Movie                      Je Suis Karl   \n",
       "\n",
       "                        director  \\\n",
       "0                Kirsten Johnson   \n",
       "1  Robert Cullen, José Luis Ucha   \n",
       "2                   Haile Gerima   \n",
       "3                 Theodore Melfi   \n",
       "4            Christian Schwochow   \n",
       "\n",
       "                                                cast  \\\n",
       "0                                                      \n",
       "1  Vanessa Hudgens, Kimiko Glenn, James Marsden, ...   \n",
       "2  Kofi Ghanaba, Oyafunmike Ogunlano, Alexandra D...   \n",
       "3  Melissa McCarthy, Chris O'Dowd, Kevin Kline, T...   \n",
       "4  Luna Wedler, Jannis Niewöhner, Milan Peschel, ...   \n",
       "\n",
       "                                             country          date_added  \\\n",
       "0                                      United States  September 25, 2021   \n",
       "1                                                     September 24, 2021   \n",
       "2  United States, Ghana, Burkina Faso, United Kin...  September 24, 2021   \n",
       "3                                      United States  September 24, 2021   \n",
       "4                            Germany, Czech Republic  September 23, 2021   \n",
       "\n",
       "   month_added  year_added  release_year rating  length  \\\n",
       "0            9        2021          2020  PG-13      90   \n",
       "1            9        2021          2021     PG      91   \n",
       "2            9        2021          1993  TV-MA     125   \n",
       "3            9        2021          2021  PG-13     104   \n",
       "4            9        2021          2021  TV-MA     127   \n",
       "\n",
       "                                          listed_in  \\\n",
       "0                                     Documentaries   \n",
       "1                          Children & Family Movies   \n",
       "2  Dramas, Independent Movies, International Movies   \n",
       "3                                  Comedies, Dramas   \n",
       "4                      Dramas, International Movies   \n",
       "\n",
       "                                         description  \n",
       "0  As her father nears the end of his life, filmm...  \n",
       "1  Equestria's divided. But a bright-eyed hero be...  \n",
       "2  On a photo shoot in Ghana, an American model s...  \n",
       "3  A woman adjusting to life after a loss contend...  \n",
       "4  After most of her family is murdered in a terr...  "
      ]
     },
     "execution_count": 10,
     "metadata": {},
     "output_type": "execute_result"
    }
   ],
   "source": [
    "# Se obtiene la duración de la película o el número de temporadas de la serie\n",
    "def getDuration(data):\n",
    "    count = 0\n",
    "    durations = []\n",
    "    for value in data:\n",
    "\t# Rellenando los valores que faltan\n",
    "        if type(value) is float:\n",
    "            durations.append(0)\n",
    "        else:\n",
    "            values = value.split(\" \")\n",
    "            durations.append(int(values[0]))\n",
    "    return durations\n",
    "    \n",
    "# Inserción de una nueva columna de tipo de duración para los espectáculos (renombrando la columna)\n",
    "netflix_shows.insert(11, 'seasons', getDuration(netflix_shows['duration']))\n",
    "netflix_shows = netflix_shows.drop(['duration'], axis = 1)\n",
    "netflix_shows.head()\n",
    "\n",
    "# Inserción de una nueva columna de tipo de duración para las películas (renombrando la columna)\n",
    "netflix_films.insert(11, 'length', getDuration(netflix_films['duration']))\n",
    "netflix_films = netflix_films.drop(['duration'], axis = 1)\n",
    "netflix_films.head()"
   ]
  },
  {
   "cell_type": "markdown",
   "metadata": {},
   "source": [
    "Paso 7: Verificar los valores únicos de las columnas."
   ]
  },
  {
   "cell_type": "markdown",
   "metadata": {},
   "source": [
    "Más allá de los valores potencialmente faltantes, podría haber valores corruptos con los que pueda encontrarse una vez que realice el análisis. Para comprobar esto, se pueden buscar valores únicos para algunas de las columnas. \n"
   ]
  },
  {
   "cell_type": "markdown",
   "metadata": {},
   "source": [
    "Centrándonos en una lista de posibles valores únicos que podrían ser más fáciles y más importante, esto podría ayudar para futuros análisis. Echando un vistazo a los conjuntos de datos, las columnas country, rating, listed_in probablemente sean las de interés, hay que examinar primero la columna de calificación, ya que parece ser la menos complicada de tratar.\n",
    "\n",
    "Esto se puede obtener fácilmente de los valores únicos de una columna como calificación utilizando la función incorporada de Python unique."
   ]
  },
  {
   "cell_type": "code",
   "execution_count": 11,
   "metadata": {},
   "outputs": [
    {
     "data": {
      "text/plain": [
       "array(['PG-13', 'PG', 'TV-MA', 'TV-PG', 'TV-14', 'TV-Y', 'R', 'TV-G',\n",
       "       'TV-Y7', 'G', 'NC-17', '74 min', '84 min', '66 min', 'NR', '',\n",
       "       'TV-Y7-FV', 'UR'], dtype=object)"
      ]
     },
     "execution_count": 11,
     "metadata": {},
     "output_type": "execute_result"
    }
   ],
   "source": [
    "# Obtener la calificación única de las películas\n",
    "netflix_films['rating'].unique()"
   ]
  },
  {
   "cell_type": "code",
   "execution_count": 12,
   "metadata": {},
   "outputs": [
    {
     "data": {
      "text/plain": [
       "array(['TV-MA', 'TV-14', 'TV-Y7', 'TV-PG', 'TV-Y', 'TV-G', 'R', 'NR', '',\n",
       "       'TV-Y7-FV'], dtype=object)"
      ]
     },
     "execution_count": 12,
     "metadata": {},
     "output_type": "execute_result"
    }
   ],
   "source": [
    "# Obtención de los índices de audiencia únicos de los programas\n",
    "netflix_shows['rating'].unique()"
   ]
  },
  {
   "cell_type": "markdown",
   "metadata": {},
   "source": [
    "Revisando los datos de salida podemos ver que salen valores en minutos, además de existir UR (sin clasificar) y NR (No clasificado). Para investigar más a fondo, se extraerán las filas con estos datos extraños."
   ]
  },
  {
   "cell_type": "code",
   "execution_count": 13,
   "metadata": {},
   "outputs": [
    {
     "name": "stdout",
     "output_type": "stream",
     "text": [
      "show_id                                                     s5542\n",
      "type                                                        Movie\n",
      "title                                             Louis C.K. 2017\n",
      "director                                               Louis C.K.\n",
      "cast                                                   Louis C.K.\n",
      "country                                             United States\n",
      "date_added                                          April 4, 2017\n",
      "month_added                                                     4\n",
      "year_added                                                   2017\n",
      "release_year                                                 2017\n",
      "rating                                                     74 min\n",
      "length                                                          0\n",
      "listed_in                                                  Movies\n",
      "description     Louis C.K. muses on religion, eternal love, gi...\n",
      "Name: 3562, dtype: object\n",
      "\n",
      "show_id                                                     s5795\n",
      "type                                                        Movie\n",
      "title                                       Louis C.K.: Hilarious\n",
      "director                                               Louis C.K.\n",
      "cast                                                   Louis C.K.\n",
      "country                                             United States\n",
      "date_added                                     September 16, 2016\n",
      "month_added                                                     9\n",
      "year_added                                                   2016\n",
      "release_year                                                 2010\n",
      "rating                                                     84 min\n",
      "length                                                          0\n",
      "listed_in                                                  Movies\n",
      "description     Emmy-winning comedy writer Louis C.K. brings h...\n",
      "Name: 3738, dtype: object\n",
      "\n",
      "show_id                                                     s5814\n",
      "type                                                        Movie\n",
      "title                        Louis C.K.: Live at the Comedy Store\n",
      "director                                               Louis C.K.\n",
      "cast                                                   Louis C.K.\n",
      "country                                             United States\n",
      "date_added                                        August 15, 2016\n",
      "month_added                                                     8\n",
      "year_added                                                   2016\n",
      "release_year                                                 2015\n",
      "rating                                                     66 min\n",
      "length                                                          0\n",
      "listed_in                                                  Movies\n",
      "description     The comic puts his trademark hilarious/thought...\n",
      "Name: 3747, dtype: object\n",
      "\n"
     ]
    }
   ],
   "source": [
    "# Imprimir más detalles de las filas que tienen valoraciones incorrectas\n",
    "incorrect_ratings = ['74 min', '84 min', '66 min']\n",
    "for i in range(len(netflix_films)):\n",
    "    if netflix_films['rating'].iloc[i] in incorrect_ratings:\n",
    "        print(netflix_films.iloc[i])\n",
    "        print(\"\")"
   ]
  },
  {
   "cell_type": "markdown",
   "metadata": {},
   "source": [
    "Con este fragmento de código, podemos ver que 3 filas distintas contienen esta calificación extraña y que en realidad pertenece a la columna de longitud. También podemos ver el número de fila donde se encuentra el problema, que será útil para corregir las entradas, posteriormente se procede a corregir estas entradas moviendo las \"calificaciones incorrectas\" (en realidad, duración) a la columna de longitud e ingresando las calificaciones correctas."
   ]
  },
  {
   "cell_type": "code",
   "execution_count": 14,
   "metadata": {},
   "outputs": [
    {
     "name": "stdout",
     "output_type": "stream",
     "text": [
      "show_id                                                     s5542\n",
      "type                                                        Movie\n",
      "title                                             Louis C.K. 2017\n",
      "director                                               Louis C.K.\n",
      "cast                                                   Louis C.K.\n",
      "country                                             United States\n",
      "date_added                                          April 4, 2017\n",
      "month_added                                                     4\n",
      "year_added                                                   2017\n",
      "release_year                                                 2017\n",
      "rating                                                         NR\n",
      "length                                                         74\n",
      "listed_in                                                  Movies\n",
      "description     Louis C.K. muses on religion, eternal love, gi...\n",
      "Name: 3562, dtype: object\n",
      "show_id                                                     s5795\n",
      "type                                                        Movie\n",
      "title                                       Louis C.K.: Hilarious\n",
      "director                                               Louis C.K.\n",
      "cast                                                   Louis C.K.\n",
      "country                                             United States\n",
      "date_added                                     September 16, 2016\n",
      "month_added                                                     9\n",
      "year_added                                                   2016\n",
      "release_year                                                 2010\n",
      "rating                                                         NR\n",
      "length                                                         84\n",
      "listed_in                                                  Movies\n",
      "description     Emmy-winning comedy writer Louis C.K. brings h...\n",
      "Name: 3738, dtype: object\n",
      "show_id                                                     s5814\n",
      "type                                                        Movie\n",
      "title                        Louis C.K.: Live at the Comedy Store\n",
      "director                                               Louis C.K.\n",
      "cast                                                   Louis C.K.\n",
      "country                                             United States\n",
      "date_added                                        August 15, 2016\n",
      "month_added                                                     8\n",
      "year_added                                                   2016\n",
      "release_year                                                 2015\n",
      "rating                                                         NR\n",
      "length                                                         66\n",
      "listed_in                                                  Movies\n",
      "description     The comic puts his trademark hilarious/thought...\n",
      "Name: 3747, dtype: object\n"
     ]
    },
    {
     "name": "stderr",
     "output_type": "stream",
     "text": [
      "C:\\Users\\ages0\\AppData\\Local\\Temp\\ipykernel_300\\3148512868.py:8: SettingWithCopyWarning: \n",
      "A value is trying to be set on a copy of a slice from a DataFrame\n",
      "\n",
      "See the caveats in the documentation: https://pandas.pydata.org/pandas-docs/stable/user_guide/indexing.html#returning-a-view-versus-a-copy\n",
      "  netflix_films['length'].iloc[i] = length\n",
      "C:\\Users\\ages0\\AppData\\Local\\Temp\\ipykernel_300\\3148512868.py:9: SettingWithCopyWarning: \n",
      "A value is trying to be set on a copy of a slice from a DataFrame\n",
      "\n",
      "See the caveats in the documentation: https://pandas.pydata.org/pandas-docs/stable/user_guide/indexing.html#returning-a-view-versus-a-copy\n",
      "  netflix_films['rating'].iloc[i] = \"NR\"\n"
     ]
    }
   ],
   "source": [
    "# Obteniendo los índices de las filas\n",
    "index = [3562, 3738, 3747]\n",
    "\n",
    "# Arreglando las entradas\n",
    "for i in index:\n",
    "    split_value = netflix_films['rating'].iloc[i].split(\" \")\n",
    "    length = split_value[0]\n",
    "    netflix_films['length'].iloc[i] = length\n",
    "    netflix_films['rating'].iloc[i] = \"NR\" \n",
    "    \n",
    "    \n",
    "# Se vuelve a comprobar las entradas\n",
    "for i in index:\n",
    "    print(netflix_films.iloc[i])"
   ]
  },
  {
   "cell_type": "markdown",
   "metadata": {},
   "source": [
    "Para los valores de UR y NR en la columna de calificación, se debe mantener la coherencia cuando se usa NR en el conjunto de datos netflix_shows y cambiar los valores de UR a NR."
   ]
  },
  {
   "cell_type": "code",
   "execution_count": 15,
   "metadata": {},
   "outputs": [
    {
     "name": "stderr",
     "output_type": "stream",
     "text": [
      "C:\\Users\\ages0\\AppData\\Local\\Temp\\ipykernel_300\\2767565248.py:4: SettingWithCopyWarning: \n",
      "A value is trying to be set on a copy of a slice from a DataFrame\n",
      "\n",
      "See the caveats in the documentation: https://pandas.pydata.org/pandas-docs/stable/user_guide/indexing.html#returning-a-view-versus-a-copy\n",
      "  netflix_films['rating'].iloc[i] = \"NR\"\n"
     ]
    },
    {
     "data": {
      "text/plain": [
       "array(['PG-13', 'PG', 'TV-MA', 'TV-PG', 'TV-14', 'TV-Y', 'R', 'TV-G',\n",
       "       'TV-Y7', 'G', 'NC-17', 'NR', '', 'TV-Y7-FV'], dtype=object)"
      ]
     },
     "execution_count": 15,
     "metadata": {},
     "output_type": "execute_result"
    }
   ],
   "source": [
    "# Se arreglan las entradas\n",
    "for i in range(len(netflix_films)):\n",
    "    if netflix_films['rating'].iloc[i] == \"UR\":\n",
    "        netflix_films['rating'].iloc[i] = \"NR\"\n",
    "        \n",
    "# Se vuelve a verificar\n",
    "netflix_films['rating'].unique()\n"
   ]
  },
  {
   "cell_type": "markdown",
   "metadata": {},
   "source": [
    "Ahora que se ha limpiado la columna de rating, veamos la columna país y listed_in. A estas alturas, nos damos cuenta de que no es tan fácil extraer valores únicos de la columna rating. Debido a que los valores en esas columnas son palabras unidas por comas, lo que hace más difícil extraer el conjunto de palabras y luego encontrar palabras únicas de ese conjunto.\n",
    "\n",
    "La forma de solucionar este problema es implementando una función única para este caso especial.\n",
    "\n",
    "La estructura de datos que conviene en este caso son los conjuntos, ya que tienen una gran capacidad para almacenar elementos únicos del mismo tipo en orden, además, para extraer aquellas palabras que están unidas por comas, se puede usar la función split para dividir la cadena por coma."
   ]
  },
  {
   "cell_type": "code",
   "execution_count": 16,
   "metadata": {},
   "outputs": [],
   "source": [
    "\n",
    "# Función para obtener valores únicos de una columna\n",
    "def getUnique(data):\n",
    "    unique_values = set()\n",
    "    for value in data:\n",
    "        if type(value) is float:\n",
    "            unique_values.add(None)\n",
    "        else:\n",
    "            values = value.split(\", \")\n",
    "            for i in values:\n",
    "                unique_values.add(i)\n",
    "    return list(unique_values)"
   ]
  },
  {
   "cell_type": "markdown",
   "metadata": {},
   "source": [
    "Después de usar la función, podemos obtener fácilmente los valores únicos para las columnas country y listed_in."
   ]
  },
  {
   "cell_type": "code",
   "execution_count": 25,
   "metadata": {},
   "outputs": [
    {
     "data": {
      "text/plain": [
       "['',\n",
       " 'United States',\n",
       " 'Brazil',\n",
       " 'France',\n",
       " 'Cambodia',\n",
       " 'Portugal',\n",
       " 'Luxembourg',\n",
       " 'Syria',\n",
       " 'Poland,',\n",
       " 'Cyprus',\n",
       " 'Peru',\n",
       " 'Morocco',\n",
       " 'Russia',\n",
       " 'Ukraine',\n",
       " 'Greece',\n",
       " 'Cayman Islands',\n",
       " 'Japan',\n",
       " 'Kenya',\n",
       " 'Lebanon',\n",
       " 'Nepal',\n",
       " 'United Arab Emirates',\n",
       " 'Ecuador',\n",
       " 'Ghana',\n",
       " 'Finland',\n",
       " 'South Korea',\n",
       " 'Iceland',\n",
       " 'Switzerland',\n",
       " 'United States,',\n",
       " 'Iraq',\n",
       " 'United Kingdom,',\n",
       " 'Singapore',\n",
       " 'Ireland',\n",
       " 'Iran',\n",
       " 'Argentina',\n",
       " 'Nicaragua',\n",
       " 'Venezuela',\n",
       " 'Pakistan',\n",
       " 'India',\n",
       " 'Mexico',\n",
       " 'Algeria',\n",
       " 'Montenegro',\n",
       " 'Germany',\n",
       " 'Qatar',\n",
       " 'Poland',\n",
       " 'Chile',\n",
       " 'Vietnam',\n",
       " 'Cambodia,',\n",
       " 'Puerto Rico',\n",
       " 'Burkina Faso',\n",
       " 'Hungary',\n",
       " 'Mongolia',\n",
       " 'Vatican City',\n",
       " 'Colombia',\n",
       " 'Somalia',\n",
       " 'Uganda',\n",
       " 'Taiwan',\n",
       " 'Italy',\n",
       " 'Turkey',\n",
       " 'Norway',\n",
       " 'Canada',\n",
       " 'Malawi',\n",
       " 'Lithuania',\n",
       " 'Nigeria',\n",
       " 'Senegal',\n",
       " 'Egypt',\n",
       " 'China',\n",
       " 'Slovakia',\n",
       " 'Australia',\n",
       " 'Bahamas',\n",
       " 'Indonesia',\n",
       " 'Kazakhstan',\n",
       " 'Hong Kong',\n",
       " 'Botswana',\n",
       " 'Cameroon',\n",
       " 'United Kingdom',\n",
       " 'Slovenia',\n",
       " 'Denmark',\n",
       " 'Panama',\n",
       " 'Zimbabwe',\n",
       " 'Czech Republic',\n",
       " 'Afghanistan',\n",
       " 'Croatia',\n",
       " 'Albania',\n",
       " 'Azerbaijan',\n",
       " 'Sweden',\n",
       " 'Sri Lanka',\n",
       " 'Israel',\n",
       " 'Mauritius',\n",
       " 'Jamaica',\n",
       " 'Angola',\n",
       " 'Philippines',\n",
       " 'Spain',\n",
       " 'Serbia',\n",
       " 'New Zealand',\n",
       " 'Thailand',\n",
       " 'Bermuda',\n",
       " 'Namibia',\n",
       " 'Paraguay',\n",
       " 'Cuba',\n",
       " 'Dominican Republic',\n",
       " 'Malaysia',\n",
       " 'Palestine',\n",
       " 'Samoa',\n",
       " 'Belgium',\n",
       " 'Mozambique',\n",
       " 'Bulgaria',\n",
       " 'Belarus',\n",
       " 'Saudi Arabia',\n",
       " 'Netherlands',\n",
       " 'Austria',\n",
       " 'Sudan',\n",
       " 'Ethiopia',\n",
       " 'Guatemala',\n",
       " 'Armenia',\n",
       " 'Uruguay',\n",
       " 'Bangladesh',\n",
       " 'Romania',\n",
       " 'South Africa',\n",
       " 'Liechtenstein',\n",
       " 'Jordan',\n",
       " 'Georgia',\n",
       " 'Latvia',\n",
       " 'Kuwait',\n",
       " 'Malta']"
      ]
     },
     "execution_count": 25,
     "metadata": {},
     "output_type": "execute_result"
    }
   ],
   "source": [
    "# Obtener nombres de países únicos\n",
    "unique_countries = getUnique(netflix_titles['country'])\n",
    "unique_countries"
   ]
  },
  {
   "cell_type": "markdown",
   "metadata": {},
   "source": [
    "Examinemos la lista de países únicos para ver si hay inconsistencias o errores, se puede encontrar en la lista general lo siguiente:\n",
    "\n",
    "- Están tanto la Unión Soviética como Rusia.\n",
    "- Están tanto Alemania Oriental/Occidental como Alemania\n",
    "\n",
    "Esto se soluciona con algunas modificaciones en el conjunto de datos."
   ]
  },
  {
   "cell_type": "code",
   "execution_count": 18,
   "metadata": {},
   "outputs": [
    {
     "name": "stderr",
     "output_type": "stream",
     "text": [
      "C:\\Users\\ages0\\AppData\\Local\\Temp\\ipykernel_300\\4280642800.py:10: SettingWithCopyWarning: \n",
      "A value is trying to be set on a copy of a slice from a DataFrame\n",
      "\n",
      "See the caveats in the documentation: https://pandas.pydata.org/pandas-docs/stable/user_guide/indexing.html#returning-a-view-versus-a-copy\n",
      "  netflix_titles['country'].iloc[i] = \", \".join(countries)\n"
     ]
    }
   ],
   "source": [
    "# Convertir la unión soviética en rusia y la alemania del este/oeste en alemania\n",
    "for i in range(len(netflix_titles)):\n",
    "    if type(netflix_titles['country'].iloc[i]) is not float:\n",
    "        countries = netflix_titles['country'].iloc[i].split(\", \")\n",
    "        for j in range(len(countries)):\n",
    "            if \"Germany\" in countries[j]:\n",
    "                countries[j] = \"Germany\"\n",
    "            elif \"Soviet Union\" in countries[j]:\n",
    "                countries[j] = \"Russia\"\n",
    "        netflix_titles['country'].iloc[i] = \", \".join(countries)"
   ]
  },
  {
   "cell_type": "markdown",
   "metadata": {},
   "source": [
    "En cuanto a la lista de géneros, podemos ver que hay algunos géneros que quizás no queramos o no necesitemos incluir. Por lo tanto, podemos eliminarlo fácilmente del conjunto de datos para que nuestro análisis sea menos confuso."
   ]
  },
  {
   "cell_type": "code",
   "execution_count": 19,
   "metadata": {},
   "outputs": [
    {
     "data": {
      "text/plain": [
       "['Children & Family Movies',\n",
       " 'Movies',\n",
       " 'Anime Features',\n",
       " 'Sports Movies',\n",
       " 'Classic Movies',\n",
       " 'Documentaries',\n",
       " 'Faith & Spirituality',\n",
       " 'Dramas',\n",
       " 'Music & Musicals',\n",
       " 'Romantic Movies',\n",
       " 'Sci-Fi & Fantasy',\n",
       " 'Action & Adventure',\n",
       " 'LGBTQ Movies',\n",
       " 'International Movies',\n",
       " 'Horror Movies',\n",
       " 'Stand-Up Comedy',\n",
       " 'Cult Movies',\n",
       " 'Thrillers',\n",
       " 'Independent Movies',\n",
       " 'Comedies']"
      ]
     },
     "execution_count": 19,
     "metadata": {},
     "output_type": "execute_result"
    }
   ],
   "source": [
    "# Conseguir géneros cinematográficos únicos\n",
    "unique_genres_films = getUnique(netflix_films['listed_in'])\n",
    "unique_genres_films"
   ]
  },
  {
   "cell_type": "code",
   "execution_count": 20,
   "metadata": {},
   "outputs": [
    {
     "data": {
      "text/plain": [
       "['TV Dramas',\n",
       " 'Anime Series',\n",
       " 'TV Shows',\n",
       " 'TV Thrillers',\n",
       " 'TV Sci-Fi & Fantasy',\n",
       " 'Stand-Up Comedy & Talk Shows',\n",
       " \"Kids' TV\",\n",
       " 'Spanish-Language TV Shows',\n",
       " 'TV Mysteries',\n",
       " 'British TV Shows',\n",
       " 'TV Comedies',\n",
       " 'Reality TV',\n",
       " 'Korean TV Shows',\n",
       " 'TV Horror',\n",
       " 'Science & Nature TV',\n",
       " 'Docuseries',\n",
       " 'Teen TV Shows',\n",
       " 'Classic & Cult TV',\n",
       " 'Romantic TV Shows',\n",
       " 'Crime TV Shows',\n",
       " 'International TV Shows',\n",
       " 'TV Action & Adventure']"
      ]
     },
     "execution_count": 20,
     "metadata": {},
     "output_type": "execute_result"
    }
   ],
   "source": [
    "# Conseguir géneros de programas únicos\n",
    "unique_genres_shows = getUnique(netflix_shows['listed_in'])\n",
    "unique_genres_shows"
   ]
  },
  {
   "cell_type": "markdown",
   "metadata": {},
   "source": [
    "Tanto en el conjunto de datos de programas de televisión como de películas, hay un género de \"programas de televisión\" y \"películas\". Técnicamente, esto no es un género, pero podría ser una etiqueta del tipo de contenido. Para confirmar esto, se debe imprimir los recuentos de estos \"géneros\" que aparecen en los respectivos conjuntos de datos.\n",
    "\n",
    "La hipótesis es que si estos “géneros” aparecen en todas las filas de los conjuntos de datos, significa que son simplemente etiquetas."
   ]
  },
  {
   "cell_type": "code",
   "execution_count": 21,
   "metadata": {},
   "outputs": [
    {
     "name": "stdout",
     "output_type": "stream",
     "text": [
      "count 16\n",
      "index [59, 110, 272, 286, 452, 599, 991, 1432, 1548, 1808, 1840, 2107, 2160, 2190, 2465, 2559]\n"
     ]
    }
   ],
   "source": [
    "# Revisando los programas de televisión\n",
    "# Reemplazando netflix_shows con netflix_films para revisar las películas\n",
    "count = 0\n",
    "index = []\n",
    "for i, value in enumerate(netflix_shows['listed_in']):\n",
    "    genres = value.split(\", \")\n",
    "    if \"TV Shows\" in genres:\n",
    "        count += 1\n",
    "        index.append(i)\n",
    "print(\"count %s\" %count)\n",
    "print(\"index %s\" %index)"
   ]
  },
  {
   "cell_type": "markdown",
   "metadata": {},
   "source": [
    "Como el recuento de \"géneros\" es menor que el tamaño de los conjuntos de datos, se usará la salida del código para examinar las filas.\n",
    "\n",
    "Se escribió el código para generar específicamente los índices de filas en una lista, se puede usar fácilmente esa lista y la función iloc para obtener una vista de las filas."
   ]
  },
  {
   "cell_type": "code",
   "execution_count": 22,
   "metadata": {},
   "outputs": [
    {
     "data": {
      "text/html": [
       "<div>\n",
       "<style scoped>\n",
       "    .dataframe tbody tr th:only-of-type {\n",
       "        vertical-align: middle;\n",
       "    }\n",
       "\n",
       "    .dataframe tbody tr th {\n",
       "        vertical-align: top;\n",
       "    }\n",
       "\n",
       "    .dataframe thead th {\n",
       "        text-align: right;\n",
       "    }\n",
       "</style>\n",
       "<table border=\"1\" class=\"dataframe\">\n",
       "  <thead>\n",
       "    <tr style=\"text-align: right;\">\n",
       "      <th></th>\n",
       "      <th>show_id</th>\n",
       "      <th>type</th>\n",
       "      <th>title</th>\n",
       "      <th>director</th>\n",
       "      <th>cast</th>\n",
       "      <th>country</th>\n",
       "      <th>date_added</th>\n",
       "      <th>month_added</th>\n",
       "      <th>year_added</th>\n",
       "      <th>release_year</th>\n",
       "      <th>rating</th>\n",
       "      <th>seasons</th>\n",
       "      <th>listed_in</th>\n",
       "      <th>description</th>\n",
       "    </tr>\n",
       "  </thead>\n",
       "  <tbody>\n",
       "    <tr>\n",
       "      <th>59</th>\n",
       "      <td>s149</td>\n",
       "      <td>TV Show</td>\n",
       "      <td>HQ Barbers</td>\n",
       "      <td>Gerhard Mostert</td>\n",
       "      <td>Hakeem Kae-Kazim, Chioma Omeruah, Orukotan Ade...</td>\n",
       "      <td></td>\n",
       "      <td>September 1, 2021</td>\n",
       "      <td>9</td>\n",
       "      <td>2021</td>\n",
       "      <td>2020</td>\n",
       "      <td>TV-14</td>\n",
       "      <td>1</td>\n",
       "      <td>TV Shows</td>\n",
       "      <td>When a family run barber shop in the heart of ...</td>\n",
       "    </tr>\n",
       "    <tr>\n",
       "      <th>110</th>\n",
       "      <td>s298</td>\n",
       "      <td>TV Show</td>\n",
       "      <td>Navarasa</td>\n",
       "      <td>Bejoy Nambiar, Priyadarshan, Karthik Narain, V...</td>\n",
       "      <td>Suriya, Vijay Sethupathi, Revathy, Prakash Raj...</td>\n",
       "      <td>India</td>\n",
       "      <td>August 6, 2021</td>\n",
       "      <td>8</td>\n",
       "      <td>2021</td>\n",
       "      <td>2021</td>\n",
       "      <td>TV-MA</td>\n",
       "      <td>1</td>\n",
       "      <td>TV Shows</td>\n",
       "      <td>From amusement to awe, the nine human emotions...</td>\n",
       "    </tr>\n",
       "    <tr>\n",
       "      <th>272</th>\n",
       "      <td>s727</td>\n",
       "      <td>TV Show</td>\n",
       "      <td>Metallica: Some Kind of Monster</td>\n",
       "      <td>Joe Berlinger, Bruce Sinofsky</td>\n",
       "      <td>James Hetfield, Lars Ulrich, Kirk Hammett, Rob...</td>\n",
       "      <td>United States</td>\n",
       "      <td>June 13, 2021</td>\n",
       "      <td>6</td>\n",
       "      <td>2021</td>\n",
       "      <td>2014</td>\n",
       "      <td>TV-MA</td>\n",
       "      <td>1</td>\n",
       "      <td>TV Shows</td>\n",
       "      <td>This collection includes the acclaimed rock do...</td>\n",
       "    </tr>\n",
       "    <tr>\n",
       "      <th>286</th>\n",
       "      <td>s772</td>\n",
       "      <td>TV Show</td>\n",
       "      <td>Pretty Guardian Sailor Moon Eternal The Movie</td>\n",
       "      <td>Chiaki Kon</td>\n",
       "      <td>Kotono Mitsuishi, Hisako Kanemoto, Rina Satou,...</td>\n",
       "      <td></td>\n",
       "      <td>June 3, 2021</td>\n",
       "      <td>6</td>\n",
       "      <td>2021</td>\n",
       "      <td>2021</td>\n",
       "      <td>TV-14</td>\n",
       "      <td>1</td>\n",
       "      <td>TV Shows</td>\n",
       "      <td>When a dark power enshrouds the Earth after a ...</td>\n",
       "    </tr>\n",
       "    <tr>\n",
       "      <th>452</th>\n",
       "      <td>s1332</td>\n",
       "      <td>TV Show</td>\n",
       "      <td>Five Came Back: The Reference Films</td>\n",
       "      <td></td>\n",
       "      <td></td>\n",
       "      <td>United States</td>\n",
       "      <td>February 9, 2021</td>\n",
       "      <td>2</td>\n",
       "      <td>2021</td>\n",
       "      <td>1945</td>\n",
       "      <td>TV-MA</td>\n",
       "      <td>1</td>\n",
       "      <td>TV Shows</td>\n",
       "      <td>This collection includes 12 World War II-era p...</td>\n",
       "    </tr>\n",
       "  </tbody>\n",
       "</table>\n",
       "</div>"
      ],
      "text/plain": [
       "    show_id     type                                          title  \\\n",
       "59     s149  TV Show                                     HQ Barbers   \n",
       "110    s298  TV Show                                       Navarasa   \n",
       "272    s727  TV Show                Metallica: Some Kind of Monster   \n",
       "286    s772  TV Show  Pretty Guardian Sailor Moon Eternal The Movie   \n",
       "452   s1332  TV Show            Five Came Back: The Reference Films   \n",
       "\n",
       "                                              director  \\\n",
       "59                                     Gerhard Mostert   \n",
       "110  Bejoy Nambiar, Priyadarshan, Karthik Narain, V...   \n",
       "272                      Joe Berlinger, Bruce Sinofsky   \n",
       "286                                         Chiaki Kon   \n",
       "452                                                      \n",
       "\n",
       "                                                  cast        country  \\\n",
       "59   Hakeem Kae-Kazim, Chioma Omeruah, Orukotan Ade...                  \n",
       "110  Suriya, Vijay Sethupathi, Revathy, Prakash Raj...          India   \n",
       "272  James Hetfield, Lars Ulrich, Kirk Hammett, Rob...  United States   \n",
       "286  Kotono Mitsuishi, Hisako Kanemoto, Rina Satou,...                  \n",
       "452                                                     United States   \n",
       "\n",
       "            date_added  month_added  year_added  release_year rating  seasons  \\\n",
       "59   September 1, 2021            9        2021          2020  TV-14        1   \n",
       "110     August 6, 2021            8        2021          2021  TV-MA        1   \n",
       "272      June 13, 2021            6        2021          2014  TV-MA        1   \n",
       "286       June 3, 2021            6        2021          2021  TV-14        1   \n",
       "452   February 9, 2021            2        2021          1945  TV-MA        1   \n",
       "\n",
       "    listed_in                                        description  \n",
       "59   TV Shows  When a family run barber shop in the heart of ...  \n",
       "110  TV Shows  From amusement to awe, the nine human emotions...  \n",
       "272  TV Shows  This collection includes the acclaimed rock do...  \n",
       "286  TV Shows  When a dark power enshrouds the Earth after a ...  \n",
       "452  TV Shows  This collection includes 12 World War II-era p...  "
      ]
     },
     "execution_count": 22,
     "metadata": {},
     "output_type": "execute_result"
    }
   ],
   "source": [
    "# Impresión de las 5 primeras filas de todas las filas que tienen Programas de TV como género\n",
    "netflix_shows.iloc[index[0:5]]\n"
   ]
  },
  {
   "cell_type": "code",
   "execution_count": 23,
   "metadata": {},
   "outputs": [
    {
     "data": {
      "text/html": [
       "<div>\n",
       "<style scoped>\n",
       "    .dataframe tbody tr th:only-of-type {\n",
       "        vertical-align: middle;\n",
       "    }\n",
       "\n",
       "    .dataframe tbody tr th {\n",
       "        vertical-align: top;\n",
       "    }\n",
       "\n",
       "    .dataframe thead th {\n",
       "        text-align: right;\n",
       "    }\n",
       "</style>\n",
       "<table border=\"1\" class=\"dataframe\">\n",
       "  <thead>\n",
       "    <tr style=\"text-align: right;\">\n",
       "      <th></th>\n",
       "      <th>show_id</th>\n",
       "      <th>type</th>\n",
       "      <th>title</th>\n",
       "      <th>director</th>\n",
       "      <th>cast</th>\n",
       "      <th>country</th>\n",
       "      <th>date_added</th>\n",
       "      <th>month_added</th>\n",
       "      <th>year_added</th>\n",
       "      <th>release_year</th>\n",
       "      <th>rating</th>\n",
       "      <th>length</th>\n",
       "      <th>listed_in</th>\n",
       "      <th>description</th>\n",
       "    </tr>\n",
       "  </thead>\n",
       "  <tbody>\n",
       "    <tr>\n",
       "      <th>59</th>\n",
       "      <td>s108</td>\n",
       "      <td>Movie</td>\n",
       "      <td>A Champion Heart</td>\n",
       "      <td>David de Vos</td>\n",
       "      <td>Mandy Grace, David de Vos, Donna Rusch, Devan ...</td>\n",
       "      <td>United States</td>\n",
       "      <td>September 4, 2021</td>\n",
       "      <td>9</td>\n",
       "      <td>2021</td>\n",
       "      <td>2018</td>\n",
       "      <td>G</td>\n",
       "      <td>90</td>\n",
       "      <td>Children &amp; Family Movies, Dramas</td>\n",
       "      <td>When a grieving teen must work off her debt to...</td>\n",
       "    </tr>\n",
       "    <tr>\n",
       "      <th>110</th>\n",
       "      <td>s175</td>\n",
       "      <td>Movie</td>\n",
       "      <td>Tears of the Sun</td>\n",
       "      <td>Antoine Fuqua</td>\n",
       "      <td>Bruce Willis, Monica Bellucci, Cole Hauser, Ea...</td>\n",
       "      <td>United States</td>\n",
       "      <td>September 1, 2021</td>\n",
       "      <td>9</td>\n",
       "      <td>2021</td>\n",
       "      <td>2003</td>\n",
       "      <td>R</td>\n",
       "      <td>121</td>\n",
       "      <td>Action &amp; Adventure, Dramas</td>\n",
       "      <td>A Navy SEAL is sent to a war-torn African jung...</td>\n",
       "    </tr>\n",
       "    <tr>\n",
       "      <th>272</th>\n",
       "      <td>s420</td>\n",
       "      <td>Movie</td>\n",
       "      <td>Chhota Bheem: Bheem vs Aliens</td>\n",
       "      <td>Rajiv Chilaka</td>\n",
       "      <td>Vatsal Dubey, Julie Tejwani, Rupa Bhimani, Jig...</td>\n",
       "      <td></td>\n",
       "      <td>July 22, 2021</td>\n",
       "      <td>7</td>\n",
       "      <td>2021</td>\n",
       "      <td>2010</td>\n",
       "      <td>TV-Y7</td>\n",
       "      <td>69</td>\n",
       "      <td>Children &amp; Family Movies, Sports Movies</td>\n",
       "      <td>Space invaders have kidnapped Dholakpur’s king...</td>\n",
       "    </tr>\n",
       "    <tr>\n",
       "      <th>286</th>\n",
       "      <td>s439</td>\n",
       "      <td>Movie</td>\n",
       "      <td>2 Weeks in Lagos</td>\n",
       "      <td>Kathryn Fasegha</td>\n",
       "      <td>Beverly Naya, Mawuli Gavor, Ajoke Silva, Jide ...</td>\n",
       "      <td></td>\n",
       "      <td>July 16, 2021</td>\n",
       "      <td>7</td>\n",
       "      <td>2021</td>\n",
       "      <td>2020</td>\n",
       "      <td>TV-PG</td>\n",
       "      <td>107</td>\n",
       "      <td>Dramas, International Movies, Romantic Movies</td>\n",
       "      <td>A businessman returns home to Nigeria and fall...</td>\n",
       "    </tr>\n",
       "    <tr>\n",
       "      <th>452</th>\n",
       "      <td>s723</td>\n",
       "      <td>Movie</td>\n",
       "      <td>Sir! No Sir!</td>\n",
       "      <td>David Zeiger</td>\n",
       "      <td>Troy Garity</td>\n",
       "      <td>United States</td>\n",
       "      <td>June 15, 2021</td>\n",
       "      <td>6</td>\n",
       "      <td>2021</td>\n",
       "      <td>2005</td>\n",
       "      <td>TV-MA</td>\n",
       "      <td>84</td>\n",
       "      <td>Documentaries</td>\n",
       "      <td>This documentary chronicles the largely forgot...</td>\n",
       "    </tr>\n",
       "  </tbody>\n",
       "</table>\n",
       "</div>"
      ],
      "text/plain": [
       "    show_id   type                          title         director  \\\n",
       "59     s108  Movie               A Champion Heart     David de Vos   \n",
       "110    s175  Movie               Tears of the Sun    Antoine Fuqua   \n",
       "272    s420  Movie  Chhota Bheem: Bheem vs Aliens    Rajiv Chilaka   \n",
       "286    s439  Movie               2 Weeks in Lagos  Kathryn Fasegha   \n",
       "452    s723  Movie                   Sir! No Sir!     David Zeiger   \n",
       "\n",
       "                                                  cast        country  \\\n",
       "59   Mandy Grace, David de Vos, Donna Rusch, Devan ...  United States   \n",
       "110  Bruce Willis, Monica Bellucci, Cole Hauser, Ea...  United States   \n",
       "272  Vatsal Dubey, Julie Tejwani, Rupa Bhimani, Jig...                  \n",
       "286  Beverly Naya, Mawuli Gavor, Ajoke Silva, Jide ...                  \n",
       "452                                        Troy Garity  United States   \n",
       "\n",
       "            date_added  month_added  year_added  release_year rating length  \\\n",
       "59   September 4, 2021            9        2021          2018      G     90   \n",
       "110  September 1, 2021            9        2021          2003      R    121   \n",
       "272      July 22, 2021            7        2021          2010  TV-Y7     69   \n",
       "286      July 16, 2021            7        2021          2020  TV-PG    107   \n",
       "452      June 15, 2021            6        2021          2005  TV-MA     84   \n",
       "\n",
       "                                         listed_in  \\\n",
       "59                Children & Family Movies, Dramas   \n",
       "110                     Action & Adventure, Dramas   \n",
       "272        Children & Family Movies, Sports Movies   \n",
       "286  Dramas, International Movies, Romantic Movies   \n",
       "452                                  Documentaries   \n",
       "\n",
       "                                           description  \n",
       "59   When a grieving teen must work off her debt to...  \n",
       "110  A Navy SEAL is sent to a war-torn African jung...  \n",
       "272  Space invaders have kidnapped Dholakpur’s king...  \n",
       "286  A businessman returns home to Nigeria and fall...  \n",
       "452  This documentary chronicles the largely forgot...  "
      ]
     },
     "execution_count": 23,
     "metadata": {},
     "output_type": "execute_result"
    }
   ],
   "source": [
    "# Impresión de las 5 primeras filas de todas las filas que tienen Películas como género\n",
    "netflix_films.iloc[index[0:5]]"
   ]
  },
  {
   "cell_type": "markdown",
   "metadata": {},
   "source": [
    "Al observar las filas, ahora se puede ver que el género “Programas de TV” y “Películas” se usó para indicar que estos contenidos no tenían un género en primer lugar. Entendiendo lo que esto significa, se puede optar por excluirlo o incluirlo en el análisis, en este caso, se eligió incluirlo porque no afecta el análisis.\n",
    "\n",
    "Aunque este paso es tedioso, también es muy importante ya que nos permite encontrar los problemas en nuestro conjunto de datos que están ocultos a primera vista."
   ]
  }
 ],
 "metadata": {
  "kernelspec": {
   "display_name": "base",
   "language": "python",
   "name": "python3"
  },
  "language_info": {
   "codemirror_mode": {
    "name": "ipython",
    "version": 3
   },
   "file_extension": ".py",
   "mimetype": "text/x-python",
   "name": "python",
   "nbconvert_exporter": "python",
   "pygments_lexer": "ipython3",
   "version": "3.11.4"
  },
  "orig_nbformat": 4
 },
 "nbformat": 4,
 "nbformat_minor": 2
}
